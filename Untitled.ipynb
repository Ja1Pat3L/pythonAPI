{
 "cells": [
  {
   "cell_type": "code",
   "execution_count": 48,
   "metadata": {},
   "outputs": [],
   "source": [
    "import pandas as pd\n",
    "import os, glob\n",
    "import matplotlib.pyplot as plt\n",
    "pd.set_option('display.max_columns', None)\n",
    "import numpy as np\n",
    "from sklearn.model_selection import train_test_split\n",
    "from sklearn.preprocessing import StandardScaler"
   ]
  },
  {
   "cell_type": "code",
   "execution_count": 49,
   "metadata": {},
   "outputs": [
    {
     "data": {
      "text/plain": [
       "['C:\\\\Users\\\\tidyq\\\\Desktop\\\\Raja\\\\BicycleTheft\\\\Bicycle_Thefts.csv']"
      ]
     },
     "execution_count": 49,
     "metadata": {},
     "output_type": "execute_result"
    }
   ],
   "source": [
    "glob.glob(os.path.join(os.getcwd(), \"*.csv\"))"
   ]
  },
  {
   "cell_type": "code",
   "execution_count": 50,
   "metadata": {},
   "outputs": [],
   "source": [
    "df = pd.read_csv('Bicycle_Thefts.csv')"
   ]
  },
  {
   "cell_type": "code",
   "execution_count": 51,
   "metadata": {},
   "outputs": [
    {
     "name": "stdout",
     "output_type": "stream",
     "text": [
      "<class 'pandas.core.frame.DataFrame'>\n",
      "RangeIndex: 28998 entries, 0 to 28997\n",
      "Data columns (total 35 columns):\n",
      " #   Column                 Non-Null Count  Dtype  \n",
      "---  ------                 --------------  -----  \n",
      " 0   X                      28998 non-null  float64\n",
      " 1   Y                      28998 non-null  float64\n",
      " 2   OBJECTID               28998 non-null  int64  \n",
      " 3   event_unique_id        28998 non-null  object \n",
      " 4   Primary_Offence        28998 non-null  object \n",
      " 5   Occurrence_Date        28998 non-null  object \n",
      " 6   Occurrence_Year        28998 non-null  int64  \n",
      " 7   Occurrence_Month       28998 non-null  object \n",
      " 8   Occurrence_DayOfWeek   28998 non-null  object \n",
      " 9   Occurrence_DayOfMonth  28998 non-null  int64  \n",
      " 10  Occurrence_DayOfYear   28998 non-null  int64  \n",
      " 11  Occurrence_Hour        28998 non-null  int64  \n",
      " 12  Report_Date            28998 non-null  object \n",
      " 13  Report_Year            28998 non-null  int64  \n",
      " 14  Report_Month           28998 non-null  object \n",
      " 15  Report_DayOfWeek       28998 non-null  object \n",
      " 16  Report_DayOfMonth      28998 non-null  int64  \n",
      " 17  Report_DayOfYear       28998 non-null  int64  \n",
      " 18  Report_Hour            28998 non-null  int64  \n",
      " 19  Division               28998 non-null  object \n",
      " 20  City                   28998 non-null  object \n",
      " 21  Hood_ID                28998 non-null  object \n",
      " 22  NeighbourhoodName      28998 non-null  object \n",
      " 23  Location_Type          28998 non-null  object \n",
      " 24  Premises_Type          28998 non-null  object \n",
      " 25  Bike_Make              28998 non-null  object \n",
      " 26  Bike_Model             18056 non-null  object \n",
      " 27  Bike_Type              28998 non-null  object \n",
      " 28  Bike_Speed             28998 non-null  int64  \n",
      " 29  Bike_Colour            26604 non-null  object \n",
      " 30  Cost_of_Bike           27023 non-null  float64\n",
      " 31  Status                 28998 non-null  object \n",
      " 32  Longitude              28998 non-null  float64\n",
      " 33  Latitude               28998 non-null  float64\n",
      " 34  ObjectId2              28998 non-null  int64  \n",
      "dtypes: float64(5), int64(11), object(19)\n",
      "memory usage: 7.7+ MB\n"
     ]
    }
   ],
   "source": [
    "df.info()"
   ]
  },
  {
   "cell_type": "code",
   "execution_count": 52,
   "metadata": {},
   "outputs": [
    {
     "data": {
      "text/plain": [
       "(Index(['X', 'Y', 'OBJECTID', 'event_unique_id', 'Primary_Offence',\n",
       "        'Occurrence_Date', 'Occurrence_Year', 'Occurrence_Month',\n",
       "        'Occurrence_DayOfWeek', 'Occurrence_DayOfMonth', 'Occurrence_DayOfYear',\n",
       "        'Occurrence_Hour', 'Report_Date', 'Report_Year', 'Report_Month',\n",
       "        'Report_DayOfWeek', 'Report_DayOfMonth', 'Report_DayOfYear',\n",
       "        'Report_Hour', 'Division', 'City', 'Hood_ID', 'NeighbourhoodName',\n",
       "        'Location_Type', 'Premises_Type', 'Bike_Make', 'Bike_Model',\n",
       "        'Bike_Type', 'Bike_Speed', 'Bike_Colour', 'Cost_of_Bike', 'Status',\n",
       "        'Longitude', 'Latitude', 'ObjectId2'],\n",
       "       dtype='object'),\n",
       " (28998, 35))"
      ]
     },
     "execution_count": 52,
     "metadata": {},
     "output_type": "execute_result"
    }
   ],
   "source": [
    "df.columns, df.shape"
   ]
  },
  {
   "cell_type": "code",
   "execution_count": 53,
   "metadata": {},
   "outputs": [
    {
     "data": {
      "text/plain": [
       "X                            0\n",
       "Y                            0\n",
       "OBJECTID                     0\n",
       "event_unique_id              0\n",
       "Primary_Offence              0\n",
       "Occurrence_Date              0\n",
       "Occurrence_Year              0\n",
       "Occurrence_Month             0\n",
       "Occurrence_DayOfWeek         0\n",
       "Occurrence_DayOfMonth        0\n",
       "Occurrence_DayOfYear         0\n",
       "Occurrence_Hour              0\n",
       "Report_Date                  0\n",
       "Report_Year                  0\n",
       "Report_Month                 0\n",
       "Report_DayOfWeek             0\n",
       "Report_DayOfMonth            0\n",
       "Report_DayOfYear             0\n",
       "Report_Hour                  0\n",
       "Division                     0\n",
       "City                         0\n",
       "Hood_ID                      0\n",
       "NeighbourhoodName            0\n",
       "Location_Type                0\n",
       "Premises_Type                0\n",
       "Bike_Make                    0\n",
       "Bike_Model               10942\n",
       "Bike_Type                    0\n",
       "Bike_Speed                   0\n",
       "Bike_Colour               2394\n",
       "Cost_of_Bike              1975\n",
       "Status                       0\n",
       "Longitude                    0\n",
       "Latitude                     0\n",
       "ObjectId2                    0\n",
       "dtype: int64"
      ]
     },
     "execution_count": 53,
     "metadata": {},
     "output_type": "execute_result"
    }
   ],
   "source": [
    "#Checking null values in df\n",
    "df.isna().sum()"
   ]
  },
  {
   "cell_type": "code",
   "execution_count": 54,
   "metadata": {},
   "outputs": [],
   "source": [
    "# Bike model is the column containing highest number of null followed by bike color\n",
    "# as the bike model containing, so i decided to remove it firstly"
   ]
  },
  {
   "cell_type": "code",
   "execution_count": 55,
   "metadata": {},
   "outputs": [],
   "source": [
    "df.drop('Bike_Model', axis = 1, inplace = True)"
   ]
  },
  {
   "cell_type": "code",
   "execution_count": 56,
   "metadata": {},
   "outputs": [],
   "source": [
    "df['Bike_Colour'].fillna('other', inplace=True)  # fill nan value\n",
    "df['Cost_of_Bike'].replace(0, np.nan, inplace=True)  # zero is also invalid"
   ]
  },
  {
   "cell_type": "code",
   "execution_count": 57,
   "metadata": {},
   "outputs": [],
   "source": [
    "df['Cost_of_Bike'].fillna(df['Cost_of_Bike'].mean(), inplace = True)"
   ]
  },
  {
   "cell_type": "code",
   "execution_count": 58,
   "metadata": {},
   "outputs": [],
   "source": [
    "removal_cols  = ['X', 'Y','OBJECTID','event_unique_id', 'Longitude', 'Latitude', 'ObjectId2']"
   ]
  },
  {
   "cell_type": "code",
   "execution_count": 59,
   "metadata": {},
   "outputs": [],
   "source": [
    "df.drop(removal_cols, axis = 1, inplace = True)"
   ]
  },
  {
   "cell_type": "code",
   "execution_count": 60,
   "metadata": {},
   "outputs": [],
   "source": [
    "df['Occurrence_Date'] = pd.to_datetime(df['Occurrence_Date'])\n",
    "df['Report_Date'] = pd.to_datetime(df['Report_Date'])"
   ]
  },
  {
   "cell_type": "code",
   "execution_count": 61,
   "metadata": {},
   "outputs": [],
   "source": [
    "df['Status'].unique()\n",
    "#there are there status, stolen, unknown and recovered. I merged to unknown to recovered.\n",
    "\n",
    "df['Status'].replace('STOLEN', 0, inplace=True)\n",
    "df['Status'].replace(['UNKNOWN', 'RECOVERED'], 1, inplace=True)\n",
    "# 0 for stolen while while 1 for recovered"
   ]
  },
  {
   "cell_type": "code",
   "execution_count": 62,
   "metadata": {},
   "outputs": [
    {
     "data": {
      "text/plain": [
       "0    28137\n",
       "1      861\n",
       "Name: Status, dtype: int64"
      ]
     },
     "execution_count": 62,
     "metadata": {},
     "output_type": "execute_result"
    }
   ],
   "source": [
    "df['Status'].value_counts()\n",
    "# Although Status, is imbalanced"
   ]
  },
  {
   "cell_type": "code",
   "execution_count": 63,
   "metadata": {},
   "outputs": [],
   "source": [
    "# Convert cost to cost catagory\n",
    "low = df['Cost_of_Bike'].quantile(.25)\n",
    "average = df['Cost_of_Bike'].quantile(.5)\n",
    "high = df['Cost_of_Bike'].quantile(.75)\n",
    "df['cost_catag'] = np.where(df['Cost_of_Bike'] <= low, 'low', np.where((df['Cost_of_Bike'] > low) & (df['Cost_of_Bike'] <= average), 'average', np.where((df['Cost_of_Bike'] > average) & (df['Cost_of_Bike'] <= high), 'high', 'luxury')))\n"
   ]
  },
  {
   "cell_type": "code",
   "execution_count": 64,
   "metadata": {},
   "outputs": [
    {
     "data": {
      "text/plain": [
       "<AxesSubplot:xlabel='Report_Year'>"
      ]
     },
     "execution_count": 64,
     "metadata": {},
     "output_type": "execute_result"
    },
    {
     "data": {
      "image/png": "[encoded data removed]",
      "text/plain": [
       "<Figure size 1152x360 with 1 Axes>"
      ]
     },
     "metadata": {
      "needs_background": "light"
     },
     "output_type": "display_data"
    }
   ],
   "source": [
    "df.groupby('Report_Year')['Status'].count().plot(kind='bar', figsize = (16,5))"
   ]
  },
  {
   "cell_type": "code",
   "execution_count": 65,
   "metadata": {},
   "outputs": [],
   "source": [
    "# Most bicycles were steal in 2018 followed by 2022"
   ]
  },
  {
   "cell_type": "code",
   "execution_count": 66,
   "metadata": {},
   "outputs": [
    {
     "data": {
      "text/plain": [
       "<AxesSubplot:xlabel='Occurrence_Month'>"
      ]
     },
     "execution_count": 66,
     "metadata": {},
     "output_type": "execute_result"
    },
    {
     "data": {
      "image/png": "[encoded data removed]",
      "text/plain": [
       "<Figure size 1152x288 with 1 Axes>"
      ]
     },
     "metadata": {
      "needs_background": "light"
     },
     "output_type": "display_data"
    }
   ],
   "source": [
    "df.groupby( 'Occurrence_Month')['Status'].count().plot(kind='bar', figsize=(16,4))"
   ]
  },
  {
   "cell_type": "code",
   "execution_count": 67,
   "metadata": {},
   "outputs": [],
   "source": [
    "# In july, the most cases were registed followed by August"
   ]
  },
  {
   "cell_type": "code",
   "execution_count": 68,
   "metadata": {},
   "outputs": [
    {
     "data": {
      "text/html": [
       "<div>\n",
       "<style scoped>\n",
       "    .dataframe tbody tr th:only-of-type {\n",
       "        vertical-align: middle;\n",
       "    }\n",
       "\n",
       "    .dataframe tbody tr th {\n",
       "        vertical-align: top;\n",
       "    }\n",
       "\n",
       "    .dataframe thead th {\n",
       "        text-align: right;\n",
       "    }\n",
       "</style>\n",
       "<table border=\"1\" class=\"dataframe\">\n",
       "  <thead>\n",
       "    <tr style=\"text-align: right;\">\n",
       "      <th></th>\n",
       "      <th>NeighbourhoodName</th>\n",
       "      <th>Status</th>\n",
       "      <th>count</th>\n",
       "    </tr>\n",
       "  </thead>\n",
       "  <tbody>\n",
       "    <tr>\n",
       "      <th>229</th>\n",
       "      <td>Waterfront Communities-The Island</td>\n",
       "      <td>0</td>\n",
       "      <td>2842</td>\n",
       "    </tr>\n",
       "    <tr>\n",
       "      <th>12</th>\n",
       "      <td>Bay Street Corridor</td>\n",
       "      <td>0</td>\n",
       "      <td>2316</td>\n",
       "    </tr>\n",
       "    <tr>\n",
       "      <th>44</th>\n",
       "      <td>Church-Yonge Corridor</td>\n",
       "      <td>0</td>\n",
       "      <td>1890</td>\n",
       "    </tr>\n",
       "    <tr>\n",
       "      <th>6</th>\n",
       "      <td>Annex</td>\n",
       "      <td>0</td>\n",
       "      <td>1054</td>\n",
       "    </tr>\n",
       "    <tr>\n",
       "      <th>166</th>\n",
       "      <td>Niagara</td>\n",
       "      <td>0</td>\n",
       "      <td>1054</td>\n",
       "    </tr>\n",
       "    <tr>\n",
       "      <th>...</th>\n",
       "      <td>...</td>\n",
       "      <td>...</td>\n",
       "      <td>...</td>\n",
       "    </tr>\n",
       "    <tr>\n",
       "      <th>183</th>\n",
       "      <td>Parkwoods-Donalda</td>\n",
       "      <td>1</td>\n",
       "      <td>1</td>\n",
       "    </tr>\n",
       "    <tr>\n",
       "      <th>222</th>\n",
       "      <td>Thorncliffe Park</td>\n",
       "      <td>1</td>\n",
       "      <td>1</td>\n",
       "    </tr>\n",
       "    <tr>\n",
       "      <th>92</th>\n",
       "      <td>Henry Farm</td>\n",
       "      <td>1</td>\n",
       "      <td>1</td>\n",
       "    </tr>\n",
       "    <tr>\n",
       "      <th>102</th>\n",
       "      <td>Humber Heights-Westmount</td>\n",
       "      <td>1</td>\n",
       "      <td>1</td>\n",
       "    </tr>\n",
       "    <tr>\n",
       "      <th>84</th>\n",
       "      <td>Forest Hill South</td>\n",
       "      <td>1</td>\n",
       "      <td>1</td>\n",
       "    </tr>\n",
       "  </tbody>\n",
       "</table>\n",
       "<p>263 rows × 3 columns</p>\n",
       "</div>"
      ],
      "text/plain": [
       "                     NeighbourhoodName  Status  count\n",
       "229  Waterfront Communities-The Island       0   2842\n",
       "12                 Bay Street Corridor       0   2316\n",
       "44               Church-Yonge Corridor       0   1890\n",
       "6                                Annex       0   1054\n",
       "166                            Niagara       0   1054\n",
       "..                                 ...     ...    ...\n",
       "183                  Parkwoods-Donalda       1      1\n",
       "222                   Thorncliffe Park       1      1\n",
       "92                          Henry Farm       1      1\n",
       "102           Humber Heights-Westmount       1      1\n",
       "84                   Forest Hill South       1      1\n",
       "\n",
       "[263 rows x 3 columns]"
      ]
     },
     "execution_count": 68,
     "metadata": {},
     "output_type": "execute_result"
    }
   ],
   "source": [
    "df.groupby('NeighbourhoodName')['Status'].value_counts().reset_index(name='count').sort_values('count', ascending=False)"
   ]
  },
  {
   "cell_type": "markdown",
   "metadata": {},
   "source": [
    "# Top 10 Unsafe Neighbourhood"
   ]
  },
  {
   "cell_type": "code",
   "execution_count": 69,
   "metadata": {},
   "outputs": [
    {
     "data": {
      "text/plain": [
       "<AxesSubplot:xlabel='NeighbourhoodName'>"
      ]
     },
     "execution_count": 69,
     "metadata": {},
     "output_type": "execute_result"
    },
    {
     "data": {
      "image/png": "[encoded data removed]",
      "text/plain": [
       "<Figure size 1152x288 with 1 Axes>"
      ]
     },
     "metadata": {
      "needs_background": "light"
     },
     "output_type": "display_data"
    }
   ],
   "source": [
    "df[df['Status'] == 0].groupby('NeighbourhoodName')['Status'].count().reset_index(name='Count').sort_values('Count', ascending= False).set_index('NeighbourhoodName')[:10].plot(kind='bar', figsize=(16,4))"
   ]
  },
  {
   "cell_type": "markdown",
   "metadata": {},
   "source": [
    "# Top 10 safe Neighbourhood"
   ]
  },
  {
   "cell_type": "code",
   "execution_count": 70,
   "metadata": {},
   "outputs": [
    {
     "data": {
      "text/plain": [
       "<AxesSubplot:xlabel='NeighbourhoodName'>"
      ]
     },
     "execution_count": 70,
     "metadata": {},
     "output_type": "execute_result"
    },
    {
     "data": {
      "image/png": "[encoded data removed]",
      "text/plain": [
       "<Figure size 1152x288 with 1 Axes>"
      ]
     },
     "metadata": {
      "needs_background": "light"
     },
     "output_type": "display_data"
    }
   ],
   "source": [
    "df[df['Status'] == 0].groupby('NeighbourhoodName')['Status'].count().reset_index(name='Count').sort_values('Count', ascending= True).set_index('NeighbourhoodName')[:10].plot(kind='bar', figsize=(16,4))"
   ]
  },
  {
   "cell_type": "code",
   "execution_count": 71,
   "metadata": {},
   "outputs": [],
   "source": [
    "# Hood -id and NeighbourhoodName are same, so we can drop NeighbourhoodName\n",
    "df.drop('NeighbourhoodName', axis = 1, inplace = True)"
   ]
  },
  {
   "cell_type": "markdown",
   "metadata": {},
   "source": [
    "# Top 10 most stolen Bike Type"
   ]
  },
  {
   "cell_type": "code",
   "execution_count": 72,
   "metadata": {},
   "outputs": [
    {
     "data": {
      "text/plain": [
       "<AxesSubplot:xlabel='Bike_Type'>"
      ]
     },
     "execution_count": 72,
     "metadata": {},
     "output_type": "execute_result"
    },
    {
     "data": {
      "image/png": "[encoded data removed]",
      "text/plain": [
       "<Figure size 1152x288 with 1 Axes>"
      ]
     },
     "metadata": {
      "needs_background": "light"
     },
     "output_type": "display_data"
    }
   ],
   "source": [
    "df[df['Status'] == 0].groupby('Bike_Type')['Status'].count().reset_index().set_index(\"Bike_Type\").sort_values(\"Status\", ascending = False)[:10].plot(kind='bar', figsize=(16,4))"
   ]
  },
  {
   "cell_type": "markdown",
   "metadata": {},
   "source": [
    "# Top Premises_Type, from where the most of the bikes steal"
   ]
  },
  {
   "cell_type": "code",
   "execution_count": 73,
   "metadata": {},
   "outputs": [
    {
     "data": {
      "text/plain": [
       "<AxesSubplot:xlabel='Premises_Type'>"
      ]
     },
     "execution_count": 73,
     "metadata": {},
     "output_type": "execute_result"
    },
    {
     "data": {
      "image/png": "[encoded data removed]",
      "text/plain": [
       "<Figure size 1152x288 with 1 Axes>"
      ]
     },
     "metadata": {
      "needs_background": "light"
     },
     "output_type": "display_data"
    }
   ],
   "source": [
    "df[df['Status'] == 0].groupby('Premises_Type')['Status'].count().reset_index().set_index('Premises_Type').plot(kind='bar', figsize=(16,4))"
   ]
  },
  {
   "cell_type": "code",
   "execution_count": 74,
   "metadata": {},
   "outputs": [],
   "source": [
    "#Outside is the area from where most the bicycles were stole"
   ]
  },
  {
   "cell_type": "code",
   "execution_count": 75,
   "metadata": {},
   "outputs": [
    {
     "data": {
      "text/plain": [
       "['Primary_Offence',\n",
       " 'Occurrence_Month',\n",
       " 'Occurrence_DayOfWeek',\n",
       " 'Report_Month',\n",
       " 'Report_DayOfWeek',\n",
       " 'Division',\n",
       " 'City',\n",
       " 'Hood_ID',\n",
       " 'Location_Type',\n",
       " 'Premises_Type',\n",
       " 'Bike_Make',\n",
       " 'Bike_Type',\n",
       " 'Bike_Colour',\n",
       " 'cost_catag']"
      ]
     },
     "execution_count": 75,
     "metadata": {},
     "output_type": "execute_result"
    }
   ],
   "source": [
    "categorical_cols = [col for col in df.columns if df[col].dtype == 'object']\n",
    "categorical_cols"
   ]
  },
  {
   "cell_type": "code",
   "execution_count": 76,
   "metadata": {},
   "outputs": [],
   "source": [
    "from sklearn.preprocessing import LabelEncoder"
   ]
  },
  {
   "cell_type": "code",
   "execution_count": 77,
   "metadata": {},
   "outputs": [
    {
     "data": {
      "text/html": [
       "<div>\n",
       "<style scoped>\n",
       "    .dataframe tbody tr th:only-of-type {\n",
       "        vertical-align: middle;\n",
       "    }\n",
       "\n",
       "    .dataframe tbody tr th {\n",
       "        vertical-align: top;\n",
       "    }\n",
       "\n",
       "    .dataframe thead th {\n",
       "        text-align: right;\n",
       "    }\n",
       "</style>\n",
       "<table border=\"1\" class=\"dataframe\">\n",
       "  <thead>\n",
       "    <tr style=\"text-align: right;\">\n",
       "      <th></th>\n",
       "      <th>Primary_Offence</th>\n",
       "      <th>Occurrence_Month</th>\n",
       "      <th>Occurrence_DayOfWeek</th>\n",
       "      <th>Report_Month</th>\n",
       "      <th>Report_DayOfWeek</th>\n",
       "      <th>Division</th>\n",
       "      <th>City</th>\n",
       "      <th>Hood_ID</th>\n",
       "      <th>Location_Type</th>\n",
       "      <th>Premises_Type</th>\n",
       "      <th>Bike_Make</th>\n",
       "      <th>Bike_Type</th>\n",
       "      <th>Bike_Colour</th>\n",
       "      <th>cost_catag</th>\n",
       "    </tr>\n",
       "  </thead>\n",
       "  <tbody>\n",
       "    <tr>\n",
       "      <th>0</th>\n",
       "      <td>THEFT UNDER - BICYCLE</td>\n",
       "      <td>May</td>\n",
       "      <td>Monday</td>\n",
       "      <td>May</td>\n",
       "      <td>Tuesday</td>\n",
       "      <td>D53</td>\n",
       "      <td>Toronto</td>\n",
       "      <td>104</td>\n",
       "      <td>Apartment (Rooming House, Condo)</td>\n",
       "      <td>Apartment</td>\n",
       "      <td>OT</td>\n",
       "      <td>OT</td>\n",
       "      <td>GRN</td>\n",
       "      <td>low</td>\n",
       "    </tr>\n",
       "    <tr>\n",
       "      <th>1</th>\n",
       "      <td>THEFT UNDER - BICYCLE</td>\n",
       "      <td>May</td>\n",
       "      <td>Wednesday</td>\n",
       "      <td>May</td>\n",
       "      <td>Friday</td>\n",
       "      <td>D14</td>\n",
       "      <td>Toronto</td>\n",
       "      <td>80</td>\n",
       "      <td>Single Home, House (Attach Garage, Cottage, Mo...</td>\n",
       "      <td>House</td>\n",
       "      <td>PE</td>\n",
       "      <td>RC</td>\n",
       "      <td>BLU</td>\n",
       "      <td>low</td>\n",
       "    </tr>\n",
       "    <tr>\n",
       "      <th>2</th>\n",
       "      <td>THEFT UNDER - BICYCLE</td>\n",
       "      <td>May</td>\n",
       "      <td>Monday</td>\n",
       "      <td>May</td>\n",
       "      <td>Tuesday</td>\n",
       "      <td>D53</td>\n",
       "      <td>Toronto</td>\n",
       "      <td>95</td>\n",
       "      <td>Streets, Roads, Highways (Bicycle Path, Privat...</td>\n",
       "      <td>Outside</td>\n",
       "      <td>SC</td>\n",
       "      <td>TO</td>\n",
       "      <td>RED</td>\n",
       "      <td>average</td>\n",
       "    </tr>\n",
       "    <tr>\n",
       "      <th>3</th>\n",
       "      <td>THEFT UNDER - BICYCLE</td>\n",
       "      <td>May</td>\n",
       "      <td>Tuesday</td>\n",
       "      <td>May</td>\n",
       "      <td>Tuesday</td>\n",
       "      <td>D11</td>\n",
       "      <td>Toronto</td>\n",
       "      <td>88</td>\n",
       "      <td>Schools During Un-Supervised Activity</td>\n",
       "      <td>Educational</td>\n",
       "      <td>SC</td>\n",
       "      <td>RG</td>\n",
       "      <td>PLE</td>\n",
       "      <td>low</td>\n",
       "    </tr>\n",
       "    <tr>\n",
       "      <th>4</th>\n",
       "      <td>THEFT UNDER - BICYCLE</td>\n",
       "      <td>May</td>\n",
       "      <td>Wednesday</td>\n",
       "      <td>May</td>\n",
       "      <td>Wednesday</td>\n",
       "      <td>D32</td>\n",
       "      <td>Toronto</td>\n",
       "      <td>33</td>\n",
       "      <td>Single Home, House (Attach Garage, Cottage, Mo...</td>\n",
       "      <td>House</td>\n",
       "      <td>HF</td>\n",
       "      <td>RG</td>\n",
       "      <td>BLK</td>\n",
       "      <td>low</td>\n",
       "    </tr>\n",
       "    <tr>\n",
       "      <th>...</th>\n",
       "      <td>...</td>\n",
       "      <td>...</td>\n",
       "      <td>...</td>\n",
       "      <td>...</td>\n",
       "      <td>...</td>\n",
       "      <td>...</td>\n",
       "      <td>...</td>\n",
       "      <td>...</td>\n",
       "      <td>...</td>\n",
       "      <td>...</td>\n",
       "      <td>...</td>\n",
       "      <td>...</td>\n",
       "      <td>...</td>\n",
       "      <td>...</td>\n",
       "    </tr>\n",
       "    <tr>\n",
       "      <th>28993</th>\n",
       "      <td>THEFT UNDER</td>\n",
       "      <td>September</td>\n",
       "      <td>Wednesday</td>\n",
       "      <td>September</td>\n",
       "      <td>Monday</td>\n",
       "      <td>D32</td>\n",
       "      <td>Toronto</td>\n",
       "      <td>32</td>\n",
       "      <td>Parking Lots (Apt., Commercial Or Non-Commercial)</td>\n",
       "      <td>Outside</td>\n",
       "      <td>CCM</td>\n",
       "      <td>MT</td>\n",
       "      <td>SILYEL</td>\n",
       "      <td>low</td>\n",
       "    </tr>\n",
       "    <tr>\n",
       "      <th>28994</th>\n",
       "      <td>THEFT UNDER</td>\n",
       "      <td>September</td>\n",
       "      <td>Friday</td>\n",
       "      <td>September</td>\n",
       "      <td>Friday</td>\n",
       "      <td>D32</td>\n",
       "      <td>Toronto</td>\n",
       "      <td>34</td>\n",
       "      <td>Streets, Roads, Highways (Bicycle Path, Privat...</td>\n",
       "      <td>Outside</td>\n",
       "      <td>RA</td>\n",
       "      <td>MT</td>\n",
       "      <td>RED</td>\n",
       "      <td>low</td>\n",
       "    </tr>\n",
       "    <tr>\n",
       "      <th>28995</th>\n",
       "      <td>THEFT FROM MOTOR VEHICLE UNDER</td>\n",
       "      <td>September</td>\n",
       "      <td>Thursday</td>\n",
       "      <td>September</td>\n",
       "      <td>Monday</td>\n",
       "      <td>D31</td>\n",
       "      <td>Toronto</td>\n",
       "      <td>26</td>\n",
       "      <td>Streets, Roads, Highways (Bicycle Path, Privat...</td>\n",
       "      <td>Outside</td>\n",
       "      <td>INVACARE</td>\n",
       "      <td>SC</td>\n",
       "      <td>BLU</td>\n",
       "      <td>high</td>\n",
       "    </tr>\n",
       "    <tr>\n",
       "      <th>28996</th>\n",
       "      <td>THEFT UNDER</td>\n",
       "      <td>September</td>\n",
       "      <td>Sunday</td>\n",
       "      <td>September</td>\n",
       "      <td>Thursday</td>\n",
       "      <td>D32</td>\n",
       "      <td>Toronto</td>\n",
       "      <td>38</td>\n",
       "      <td>Streets, Roads, Highways (Bicycle Path, Privat...</td>\n",
       "      <td>Outside</td>\n",
       "      <td>UK</td>\n",
       "      <td>RC</td>\n",
       "      <td>BLU</td>\n",
       "      <td>low</td>\n",
       "    </tr>\n",
       "    <tr>\n",
       "      <th>28997</th>\n",
       "      <td>THEFT UNDER</td>\n",
       "      <td>September</td>\n",
       "      <td>Friday</td>\n",
       "      <td>September</td>\n",
       "      <td>Friday</td>\n",
       "      <td>D32</td>\n",
       "      <td>Toronto</td>\n",
       "      <td>51</td>\n",
       "      <td>Streets, Roads, Highways (Bicycle Path, Privat...</td>\n",
       "      <td>Outside</td>\n",
       "      <td>GI</td>\n",
       "      <td>OT</td>\n",
       "      <td>GRY</td>\n",
       "      <td>high</td>\n",
       "    </tr>\n",
       "  </tbody>\n",
       "</table>\n",
       "<p>28998 rows × 14 columns</p>\n",
       "</div>"
      ],
      "text/plain": [
       "                      Primary_Offence Occurrence_Month Occurrence_DayOfWeek  \\\n",
       "0               THEFT UNDER - BICYCLE              May               Monday   \n",
       "1               THEFT UNDER - BICYCLE              May            Wednesday   \n",
       "2               THEFT UNDER - BICYCLE              May               Monday   \n",
       "3               THEFT UNDER - BICYCLE              May              Tuesday   \n",
       "4               THEFT UNDER - BICYCLE              May            Wednesday   \n",
       "...                               ...              ...                  ...   \n",
       "28993                     THEFT UNDER        September            Wednesday   \n",
       "28994                     THEFT UNDER        September               Friday   \n",
       "28995  THEFT FROM MOTOR VEHICLE UNDER        September             Thursday   \n",
       "28996                     THEFT UNDER        September               Sunday   \n",
       "28997                     THEFT UNDER        September               Friday   \n",
       "\n",
       "      Report_Month Report_DayOfWeek Division     City Hood_ID  \\\n",
       "0              May          Tuesday      D53  Toronto     104   \n",
       "1              May           Friday      D14  Toronto      80   \n",
       "2              May          Tuesday      D53  Toronto      95   \n",
       "3              May          Tuesday      D11  Toronto      88   \n",
       "4              May        Wednesday      D32  Toronto      33   \n",
       "...            ...              ...      ...      ...     ...   \n",
       "28993    September           Monday      D32  Toronto      32   \n",
       "28994    September           Friday      D32  Toronto      34   \n",
       "28995    September           Monday      D31  Toronto      26   \n",
       "28996    September         Thursday      D32  Toronto      38   \n",
       "28997    September           Friday      D32  Toronto      51   \n",
       "\n",
       "                                           Location_Type Premises_Type  \\\n",
       "0                       Apartment (Rooming House, Condo)     Apartment   \n",
       "1      Single Home, House (Attach Garage, Cottage, Mo...         House   \n",
       "2      Streets, Roads, Highways (Bicycle Path, Privat...       Outside   \n",
       "3                  Schools During Un-Supervised Activity   Educational   \n",
       "4      Single Home, House (Attach Garage, Cottage, Mo...         House   \n",
       "...                                                  ...           ...   \n",
       "28993  Parking Lots (Apt., Commercial Or Non-Commercial)       Outside   \n",
       "28994  Streets, Roads, Highways (Bicycle Path, Privat...       Outside   \n",
       "28995  Streets, Roads, Highways (Bicycle Path, Privat...       Outside   \n",
       "28996  Streets, Roads, Highways (Bicycle Path, Privat...       Outside   \n",
       "28997  Streets, Roads, Highways (Bicycle Path, Privat...       Outside   \n",
       "\n",
       "             Bike_Make Bike_Type Bike_Colour cost_catag  \n",
       "0      OT                     OT      GRN           low  \n",
       "1      PE                     RC      BLU           low  \n",
       "2      SC                     TO      RED       average  \n",
       "3      SC                     RG      PLE           low  \n",
       "4      HF                     RG      BLK           low  \n",
       "...                ...       ...         ...        ...  \n",
       "28993  CCM                    MT      SILYEL        low  \n",
       "28994  RA                     MT      RED           low  \n",
       "28995  INVACARE               SC      BLU          high  \n",
       "28996  UK                     RC      BLU           low  \n",
       "28997  GI                     OT      GRY          high  \n",
       "\n",
       "[28998 rows x 14 columns]"
      ]
     },
     "execution_count": 77,
     "metadata": {},
     "output_type": "execute_result"
    }
   ],
   "source": [
    "df[['Primary_Offence',\n",
    " 'Occurrence_Month',\n",
    " 'Occurrence_DayOfWeek',\n",
    " 'Report_Month',\n",
    " 'Report_DayOfWeek',\n",
    " 'Division',\n",
    " 'City',\n",
    " 'Hood_ID',\n",
    " 'Location_Type',\n",
    " 'Premises_Type',\n",
    " 'Bike_Make',\n",
    " 'Bike_Type',\n",
    " 'Bike_Colour',\n",
    " 'cost_catag']]"
   ]
  },
  {
   "cell_type": "code",
   "execution_count": 78,
   "metadata": {},
   "outputs": [],
   "source": [
    "import pickle\n",
    "# city encoding\n",
    "city_le = LabelEncoder()\n",
    "df['City'] = city_le.fit_transform(df['City'])\n",
    "\n",
    "if not os.path.isdir(\"Model\"):\n",
    "    os.mkdir(\"Model\")\n",
    "\n",
    "with open(\"Model/\" + \"City.pkl\", 'wb') as city_file:\n",
    "    pickle.dump(city_le, city_file)\n",
    "    city_file.close()\n",
    "    \n",
    "#Occurrence_Month\n",
    "Occurrence_Month_le = LabelEncoder()\n",
    "df['Occurrence_Month'] = Occurrence_Month_le.fit_transform(df['Occurrence_Month'])\n",
    "\n",
    "if not os.path.isdir(\"Model\"):\n",
    "    os.mkdir(\"Model\")\n",
    "\n",
    "with open(\"Model/\" + \"Occurrence_Month.pkl\", 'wb') as Occurrence_Month_file:\n",
    "    pickle.dump(Occurrence_Month_le, Occurrence_Month_file)\n",
    "    Occurrence_Month_file.close()\n",
    "\n",
    " #Occurrence_DayOfWeek\n",
    "Occurrence_DayOfWeek_le = LabelEncoder()\n",
    "df['Occurrence_DayOfWeek'] = Occurrence_DayOfWeek_le.fit_transform(df['Occurrence_DayOfWeek'])\n",
    "\n",
    "if not os.path.isdir(\"Model\"):\n",
    "    os.mkdir(\"Model\")\n",
    "\n",
    "with open(\"Model/\" + \"Occurrence_DayOfWeek.pkl\", 'wb') as Occurrence_DayOfWeek_file:\n",
    "    pickle.dump(Occurrence_DayOfWeek_le, Occurrence_DayOfWeek_file)\n",
    "    Occurrence_DayOfWeek_file.close()\n",
    "\n",
    " #Report_Month\n",
    "Report_Month_le = LabelEncoder()\n",
    "df['Report_Month'] = Report_Month_le.fit_transform(df['Report_Month'])\n",
    "\n",
    "if not os.path.isdir(\"Model\"):\n",
    "    os.mkdir(\"Model\")\n",
    "\n",
    "with open(\"Model/\" + \"Report_Month.pkl\", 'wb') as Report_Month_file:\n",
    "    pickle.dump(Report_Month_le, Report_Month_file)\n",
    "    Report_Month_file.close()\n",
    "\n",
    " #Report_DayOfWeek\n",
    "\n",
    "Report_DayOfWeek_le = LabelEncoder()\n",
    "df['Report_DayOfWeek'] = Report_DayOfWeek_le.fit_transform(df['Report_Month'])\n",
    "\n",
    "if not os.path.isdir(\"Model\"):\n",
    "    os.mkdir(\"Model\")\n",
    "\n",
    "with open(\"Model/\" + \"Report_DayOfWeek.pkl\", 'wb') as Report_DayOfWeek_file:\n",
    "    pickle.dump(Report_DayOfWeek_le, Report_DayOfWeek_file)\n",
    "    Report_DayOfWeek_file.close()\n",
    "\n",
    "\n",
    "\n",
    "\n",
    "#  Division\n",
    "Division_le = LabelEncoder()\n",
    "df['Division'] = Division_le.fit_transform(df['Division'])\n",
    "\n",
    "if not os.path.isdir(\"Model\"):\n",
    "    os.mkdir(\"Model\")\n",
    "\n",
    "with open(\"Model/\" + \"Division.pkl\", 'wb') as Division_file:\n",
    "    pickle.dump(Division_le, Division_file)\n",
    "    Division_file.close()\n",
    "\n",
    "#City\n",
    "City_le = LabelEncoder()\n",
    "df['City'] = City_le.fit_transform(df['City'])\n",
    "\n",
    "if not os.path.isdir(\"Model\"):\n",
    "    os.mkdir(\"Model\")\n",
    "\n",
    "with open(\"Model/\" + \"City.pkl\", 'wb') as City_file:\n",
    "    pickle.dump(City_le, City_file)\n",
    "    City_file.close()\n",
    "\n",
    "\n",
    "#  'Hood_ID\n",
    "Hood_ID_le = LabelEncoder()\n",
    "df['Hood_ID'] = Hood_ID_le.fit_transform(df['Hood_ID'])\n",
    "\n",
    "if not os.path.isdir(\"Model\"):\n",
    "    os.mkdir(\"Model\")\n",
    "\n",
    "with open(\"Model/\" + \"Hood_ID.pkl\", 'wb') as Hood_ID_file:\n",
    "    pickle.dump(Hood_ID_le, Hood_ID_file)\n",
    "    Hood_ID_file.close()\n",
    "    \n",
    "#  'Location_Type',\n",
    "Location_Type_le = LabelEncoder()\n",
    "df['Location_Type'] = Location_Type_le.fit_transform(df['Location_Type'])\n",
    "\n",
    "if not os.path.isdir(\"Model\"):\n",
    "    os.mkdir(\"Model\")\n",
    "\n",
    "with open(\"Model/\" + \"Location_Type.pkl\", 'wb') as Location_Type_file:\n",
    "    pickle.dump(Location_Type_le, Location_Type_file)\n",
    "    Location_Type_file.close()\n",
    "\n",
    "\n",
    "#  'Premises_Type\n",
    "Premises_Type_le = LabelEncoder()\n",
    "df['Premises_Type'] = Premises_Type_le.fit_transform(df['Premises_Type'])\n",
    "\n",
    "if not os.path.isdir(\"Model\"):\n",
    "    os.mkdir(\"Model\")\n",
    "\n",
    "with open(\"Model/\" + \"Premises_Type.pkl\", 'wb') as Premises_Type_file:\n",
    "    pickle.dump(Premises_Type_le, Premises_Type_file)\n",
    "    Premises_Type_file.close()\n",
    "\n",
    "#  'Bike_Make',\n",
    "Bike_Make_le = LabelEncoder()\n",
    "df['Bike_Make'] = Bike_Make_le.fit_transform(df['Bike_Make'])\n",
    "\n",
    "if not os.path.isdir(\"Model\"):\n",
    "    os.mkdir(\"Model\")\n",
    "\n",
    "with open(\"Model/\" + \"Bike_Make.pkl\", 'wb') as Bike_Make_file:\n",
    "    pickle.dump(Bike_Make_le, Bike_Make_file)\n",
    "    Bike_Make_file.close()\n",
    "    \n",
    "#  'Bike_Type',\n",
    "\n",
    "Bike_Type_le = LabelEncoder()\n",
    "df['Bike_Type'] = Bike_Type_le.fit_transform(df['Bike_Type'])\n",
    "\n",
    "if not os.path.isdir(\"Model\"):\n",
    "    os.mkdir(\"Model\")\n",
    "\n",
    "with open(\"Model/\" + \"Bike_Type.pkl\", 'wb') as Bike_Type_file:\n",
    "    pickle.dump(Bike_Type_le, Bike_Type_file)\n",
    "    Bike_Type_file.close()\n",
    "    \n",
    "#  'Bike_Colour\n",
    "Bike_Colour_le = LabelEncoder()\n",
    "df['Bike_Colour'] = Bike_Colour_le.fit_transform(df['Bike_Colour'])\n",
    "\n",
    "if not os.path.isdir(\"Model\"):\n",
    "    os.mkdir(\"Model\")\n",
    "\n",
    "with open(\"Model/\" + \"Bike_Colour.pkl\", 'wb') as Bike_Colour_file:\n",
    "    pickle.dump(Bike_Colour_le, Bike_Colour_file)\n",
    "    Bike_Colour_file.close()\n",
    "\n",
    "#  'cost_catag'\n",
    "cost_catag_le = LabelEncoder()\n",
    "df['cost_catag'] = cost_catag_le.fit_transform(df['cost_catag'])\n",
    "\n",
    "if not os.path.isdir(\"Model\"):\n",
    "    os.mkdir(\"Model\")\n",
    "\n",
    "with open(\"Model/\" + \"cost_catag.pkl\", 'wb') as cost_catag_file:\n",
    "    pickle.dump(cost_catag_le, cost_catag_file)\n",
    "    cost_catag_file.close()"
   ]
  },
  {
   "cell_type": "code",
   "execution_count": 79,
   "metadata": {},
   "outputs": [],
   "source": [
    "df.drop(['Primary_Offence', 'cost_catag'], axis = 1, inplace = True)"
   ]
  },
  {
   "cell_type": "code",
   "execution_count": 80,
   "metadata": {},
   "outputs": [],
   "source": [
    "df.drop(['Occurrence_Date', 'Report_Date'], axis = 1, inplace = True)"
   ]
  },
  {
   "cell_type": "code",
   "execution_count": 91,
   "metadata": {},
   "outputs": [],
   "source": [
    "X, Y = df.drop('Status', axis=1), df['Status']\n",
    "x_train, x_test, y_train, y_test = train_test_split(X, Y, test_size=.2)"
   ]
  },
  {
   "cell_type": "code",
   "execution_count": 92,
   "metadata": {},
   "outputs": [
    {
     "name": "stdout",
     "output_type": "stream",
     "text": [
      "Accuracy of RandomForest is: 0.9756896551724138\n",
      "Fitting 10 folds for each of 10 candidates, totalling 100 fits\n",
      "[CV] n_estimators=70, min_samples_split=4, min_samples_leaf=9, max_features=auto, max_depth=4 \n"
     ]
    },
    {
     "name": "stderr",
     "output_type": "stream",
     "text": [
      "[Parallel(n_jobs=1)]: Using backend SequentialBackend with 1 concurrent workers.\n"
     ]
    },
    {
     "name": "stdout",
     "output_type": "stream",
     "text": [
      "[CV]  n_estimators=70, min_samples_split=4, min_samples_leaf=9, max_features=auto, max_depth=4, total=   0.7s\n",
      "[CV] n_estimators=70, min_samples_split=4, min_samples_leaf=9, max_features=auto, max_depth=4 \n"
     ]
    },
    {
     "name": "stderr",
     "output_type": "stream",
     "text": [
      "[Parallel(n_jobs=1)]: Done   1 out of   1 | elapsed:    0.6s remaining:    0.0s\n"
     ]
    },
    {
     "name": "stdout",
     "output_type": "stream",
     "text": [
      "[CV]  n_estimators=70, min_samples_split=4, min_samples_leaf=9, max_features=auto, max_depth=4, total=   0.7s\n",
      "[CV] n_estimators=70, min_samples_split=4, min_samples_leaf=9, max_features=auto, max_depth=4 \n",
      "[CV]  n_estimators=70, min_samples_split=4, min_samples_leaf=9, max_features=auto, max_depth=4, total=   0.6s\n",
      "[CV] n_estimators=70, min_samples_split=4, min_samples_leaf=9, max_features=auto, max_depth=4 \n",
      "[CV]  n_estimators=70, min_samples_split=4, min_samples_leaf=9, max_features=auto, max_depth=4, total=   0.6s\n",
      "[CV] n_estimators=70, min_samples_split=4, min_samples_leaf=9, max_features=auto, max_depth=4 \n",
      "[CV]  n_estimators=70, min_samples_split=4, min_samples_leaf=9, max_features=auto, max_depth=4, total=   0.6s\n",
      "[CV] n_estimators=70, min_samples_split=4, min_samples_leaf=9, max_features=auto, max_depth=4 \n",
      "[CV]  n_estimators=70, min_samples_split=4, min_samples_leaf=9, max_features=auto, max_depth=4, total=   0.6s\n",
      "[CV] n_estimators=70, min_samples_split=4, min_samples_leaf=9, max_features=auto, max_depth=4 \n",
      "[CV]  n_estimators=70, min_samples_split=4, min_samples_leaf=9, max_features=auto, max_depth=4, total=   0.6s\n",
      "[CV] n_estimators=70, min_samples_split=4, min_samples_leaf=9, max_features=auto, max_depth=4 \n",
      "[CV]  n_estimators=70, min_samples_split=4, min_samples_leaf=9, max_features=auto, max_depth=4, total=   0.6s\n",
      "[CV] n_estimators=70, min_samples_split=4, min_samples_leaf=9, max_features=auto, max_depth=4 \n",
      "[CV]  n_estimators=70, min_samples_split=4, min_samples_leaf=9, max_features=auto, max_depth=4, total=   0.6s\n",
      "[CV] n_estimators=70, min_samples_split=4, min_samples_leaf=9, max_features=auto, max_depth=4 \n",
      "[CV]  n_estimators=70, min_samples_split=4, min_samples_leaf=9, max_features=auto, max_depth=4, total=   0.6s\n",
      "[CV] n_estimators=70, min_samples_split=3, min_samples_leaf=3, max_features=auto, max_depth=3 \n",
      "[CV]  n_estimators=70, min_samples_split=3, min_samples_leaf=3, max_features=auto, max_depth=3, total=   0.5s\n",
      "[CV] n_estimators=70, min_samples_split=3, min_samples_leaf=3, max_features=auto, max_depth=3 \n",
      "[CV]  n_estimators=70, min_samples_split=3, min_samples_leaf=3, max_features=auto, max_depth=3, total=   0.5s\n",
      "[CV] n_estimators=70, min_samples_split=3, min_samples_leaf=3, max_features=auto, max_depth=3 \n",
      "[CV]  n_estimators=70, min_samples_split=3, min_samples_leaf=3, max_features=auto, max_depth=3, total=   0.5s\n",
      "[CV] n_estimators=70, min_samples_split=3, min_samples_leaf=3, max_features=auto, max_depth=3 \n",
      "[CV]  n_estimators=70, min_samples_split=3, min_samples_leaf=3, max_features=auto, max_depth=3, total=   0.5s\n",
      "[CV] n_estimators=70, min_samples_split=3, min_samples_leaf=3, max_features=auto, max_depth=3 \n",
      "[CV]  n_estimators=70, min_samples_split=3, min_samples_leaf=3, max_features=auto, max_depth=3, total=   0.5s\n",
      "[CV] n_estimators=70, min_samples_split=3, min_samples_leaf=3, max_features=auto, max_depth=3 \n",
      "[CV]  n_estimators=70, min_samples_split=3, min_samples_leaf=3, max_features=auto, max_depth=3, total=   0.6s\n",
      "[CV] n_estimators=70, min_samples_split=3, min_samples_leaf=3, max_features=auto, max_depth=3 \n",
      "[CV]  n_estimators=70, min_samples_split=3, min_samples_leaf=3, max_features=auto, max_depth=3, total=   0.5s\n",
      "[CV] n_estimators=70, min_samples_split=3, min_samples_leaf=3, max_features=auto, max_depth=3 \n",
      "[CV]  n_estimators=70, min_samples_split=3, min_samples_leaf=3, max_features=auto, max_depth=3, total=   0.5s\n",
      "[CV] n_estimators=70, min_samples_split=3, min_samples_leaf=3, max_features=auto, max_depth=3 \n",
      "[CV]  n_estimators=70, min_samples_split=3, min_samples_leaf=3, max_features=auto, max_depth=3, total=   0.5s\n",
      "[CV] n_estimators=70, min_samples_split=3, min_samples_leaf=3, max_features=auto, max_depth=3 \n",
      "[CV]  n_estimators=70, min_samples_split=3, min_samples_leaf=3, max_features=auto, max_depth=3, total=   0.5s\n",
      "[CV] n_estimators=70, min_samples_split=5, min_samples_leaf=8, max_features=auto, max_depth=2 \n",
      "[CV]  n_estimators=70, min_samples_split=5, min_samples_leaf=8, max_features=auto, max_depth=2, total=   0.4s\n",
      "[CV] n_estimators=70, min_samples_split=5, min_samples_leaf=8, max_features=auto, max_depth=2 \n",
      "[CV]  n_estimators=70, min_samples_split=5, min_samples_leaf=8, max_features=auto, max_depth=2, total=   0.4s\n",
      "[CV] n_estimators=70, min_samples_split=5, min_samples_leaf=8, max_features=auto, max_depth=2 \n",
      "[CV]  n_estimators=70, min_samples_split=5, min_samples_leaf=8, max_features=auto, max_depth=2, total=   0.4s\n",
      "[CV] n_estimators=70, min_samples_split=5, min_samples_leaf=8, max_features=auto, max_depth=2 \n",
      "[CV]  n_estimators=70, min_samples_split=5, min_samples_leaf=8, max_features=auto, max_depth=2, total=   0.4s\n",
      "[CV] n_estimators=70, min_samples_split=5, min_samples_leaf=8, max_features=auto, max_depth=2 \n",
      "[CV]  n_estimators=70, min_samples_split=5, min_samples_leaf=8, max_features=auto, max_depth=2, total=   0.4s\n",
      "[CV] n_estimators=70, min_samples_split=5, min_samples_leaf=8, max_features=auto, max_depth=2 \n",
      "[CV]  n_estimators=70, min_samples_split=5, min_samples_leaf=8, max_features=auto, max_depth=2, total=   0.4s\n",
      "[CV] n_estimators=70, min_samples_split=5, min_samples_leaf=8, max_features=auto, max_depth=2 \n",
      "[CV]  n_estimators=70, min_samples_split=5, min_samples_leaf=8, max_features=auto, max_depth=2, total=   0.4s\n",
      "[CV] n_estimators=70, min_samples_split=5, min_samples_leaf=8, max_features=auto, max_depth=2 \n",
      "[CV]  n_estimators=70, min_samples_split=5, min_samples_leaf=8, max_features=auto, max_depth=2, total=   0.4s\n",
      "[CV] n_estimators=70, min_samples_split=5, min_samples_leaf=8, max_features=auto, max_depth=2 \n",
      "[CV]  n_estimators=70, min_samples_split=5, min_samples_leaf=8, max_features=auto, max_depth=2, total=   0.4s\n",
      "[CV] n_estimators=70, min_samples_split=5, min_samples_leaf=8, max_features=auto, max_depth=2 \n",
      "[CV]  n_estimators=70, min_samples_split=5, min_samples_leaf=8, max_features=auto, max_depth=2, total=   0.4s\n",
      "[CV] n_estimators=80, min_samples_split=9, min_samples_leaf=1, max_features=auto, max_depth=6 \n",
      "[CV]  n_estimators=80, min_samples_split=9, min_samples_leaf=1, max_features=auto, max_depth=6, total=   1.0s\n",
      "[CV] n_estimators=80, min_samples_split=9, min_samples_leaf=1, max_features=auto, max_depth=6 \n",
      "[CV]  n_estimators=80, min_samples_split=9, min_samples_leaf=1, max_features=auto, max_depth=6, total=   1.0s\n",
      "[CV] n_estimators=80, min_samples_split=9, min_samples_leaf=1, max_features=auto, max_depth=6 \n",
      "[CV]  n_estimators=80, min_samples_split=9, min_samples_leaf=1, max_features=auto, max_depth=6, total=   1.0s\n",
      "[CV] n_estimators=80, min_samples_split=9, min_samples_leaf=1, max_features=auto, max_depth=6 \n",
      "[CV]  n_estimators=80, min_samples_split=9, min_samples_leaf=1, max_features=auto, max_depth=6, total=   1.0s\n",
      "[CV] n_estimators=80, min_samples_split=9, min_samples_leaf=1, max_features=auto, max_depth=6 \n",
      "[CV]  n_estimators=80, min_samples_split=9, min_samples_leaf=1, max_features=auto, max_depth=6, total=   1.0s\n",
      "[CV] n_estimators=80, min_samples_split=9, min_samples_leaf=1, max_features=auto, max_depth=6 \n",
      "[CV]  n_estimators=80, min_samples_split=9, min_samples_leaf=1, max_features=auto, max_depth=6, total=   1.0s\n",
      "[CV] n_estimators=80, min_samples_split=9, min_samples_leaf=1, max_features=auto, max_depth=6 \n",
      "[CV]  n_estimators=80, min_samples_split=9, min_samples_leaf=1, max_features=auto, max_depth=6, total=   1.0s\n",
      "[CV] n_estimators=80, min_samples_split=9, min_samples_leaf=1, max_features=auto, max_depth=6 \n",
      "[CV]  n_estimators=80, min_samples_split=9, min_samples_leaf=1, max_features=auto, max_depth=6, total=   1.1s\n",
      "[CV] n_estimators=80, min_samples_split=9, min_samples_leaf=1, max_features=auto, max_depth=6 \n",
      "[CV]  n_estimators=80, min_samples_split=9, min_samples_leaf=1, max_features=auto, max_depth=6, total=   1.0s\n",
      "[CV] n_estimators=80, min_samples_split=9, min_samples_leaf=1, max_features=auto, max_depth=6 \n",
      "[CV]  n_estimators=80, min_samples_split=9, min_samples_leaf=1, max_features=auto, max_depth=6, total=   1.1s\n",
      "[CV] n_estimators=60, min_samples_split=6, min_samples_leaf=4, max_features=auto, max_depth=5 \n",
      "[CV]  n_estimators=60, min_samples_split=6, min_samples_leaf=4, max_features=auto, max_depth=5, total=   0.7s\n",
      "[CV] n_estimators=60, min_samples_split=6, min_samples_leaf=4, max_features=auto, max_depth=5 \n"
     ]
    },
    {
     "name": "stdout",
     "output_type": "stream",
     "text": [
      "[CV]  n_estimators=60, min_samples_split=6, min_samples_leaf=4, max_features=auto, max_depth=5, total=   0.6s\n",
      "[CV] n_estimators=60, min_samples_split=6, min_samples_leaf=4, max_features=auto, max_depth=5 \n",
      "[CV]  n_estimators=60, min_samples_split=6, min_samples_leaf=4, max_features=auto, max_depth=5, total=   0.7s\n",
      "[CV] n_estimators=60, min_samples_split=6, min_samples_leaf=4, max_features=auto, max_depth=5 \n",
      "[CV]  n_estimators=60, min_samples_split=6, min_samples_leaf=4, max_features=auto, max_depth=5, total=   0.6s\n",
      "[CV] n_estimators=60, min_samples_split=6, min_samples_leaf=4, max_features=auto, max_depth=5 \n",
      "[CV]  n_estimators=60, min_samples_split=6, min_samples_leaf=4, max_features=auto, max_depth=5, total=   0.6s\n",
      "[CV] n_estimators=60, min_samples_split=6, min_samples_leaf=4, max_features=auto, max_depth=5 \n",
      "[CV]  n_estimators=60, min_samples_split=6, min_samples_leaf=4, max_features=auto, max_depth=5, total=   0.6s\n",
      "[CV] n_estimators=60, min_samples_split=6, min_samples_leaf=4, max_features=auto, max_depth=5 \n",
      "[CV]  n_estimators=60, min_samples_split=6, min_samples_leaf=4, max_features=auto, max_depth=5, total=   0.6s\n",
      "[CV] n_estimators=60, min_samples_split=6, min_samples_leaf=4, max_features=auto, max_depth=5 \n",
      "[CV]  n_estimators=60, min_samples_split=6, min_samples_leaf=4, max_features=auto, max_depth=5, total=   0.6s\n",
      "[CV] n_estimators=60, min_samples_split=6, min_samples_leaf=4, max_features=auto, max_depth=5 \n",
      "[CV]  n_estimators=60, min_samples_split=6, min_samples_leaf=4, max_features=auto, max_depth=5, total=   0.6s\n",
      "[CV] n_estimators=60, min_samples_split=6, min_samples_leaf=4, max_features=auto, max_depth=5 \n",
      "[CV]  n_estimators=60, min_samples_split=6, min_samples_leaf=4, max_features=auto, max_depth=5, total=   0.6s\n",
      "[CV] n_estimators=50, min_samples_split=3, min_samples_leaf=7, max_features=log2, max_depth=6 \n",
      "[CV]  n_estimators=50, min_samples_split=3, min_samples_leaf=7, max_features=log2, max_depth=6, total=   0.6s\n",
      "[CV] n_estimators=50, min_samples_split=3, min_samples_leaf=7, max_features=log2, max_depth=6 \n",
      "[CV]  n_estimators=50, min_samples_split=3, min_samples_leaf=7, max_features=log2, max_depth=6, total=   0.6s\n",
      "[CV] n_estimators=50, min_samples_split=3, min_samples_leaf=7, max_features=log2, max_depth=6 \n",
      "[CV]  n_estimators=50, min_samples_split=3, min_samples_leaf=7, max_features=log2, max_depth=6, total=   0.7s\n",
      "[CV] n_estimators=50, min_samples_split=3, min_samples_leaf=7, max_features=log2, max_depth=6 \n",
      "[CV]  n_estimators=50, min_samples_split=3, min_samples_leaf=7, max_features=log2, max_depth=6, total=   0.7s\n",
      "[CV] n_estimators=50, min_samples_split=3, min_samples_leaf=7, max_features=log2, max_depth=6 \n",
      "[CV]  n_estimators=50, min_samples_split=3, min_samples_leaf=7, max_features=log2, max_depth=6, total=   0.7s\n",
      "[CV] n_estimators=50, min_samples_split=3, min_samples_leaf=7, max_features=log2, max_depth=6 \n",
      "[CV]  n_estimators=50, min_samples_split=3, min_samples_leaf=7, max_features=log2, max_depth=6, total=   0.7s\n",
      "[CV] n_estimators=50, min_samples_split=3, min_samples_leaf=7, max_features=log2, max_depth=6 \n",
      "[CV]  n_estimators=50, min_samples_split=3, min_samples_leaf=7, max_features=log2, max_depth=6, total=   0.6s\n",
      "[CV] n_estimators=50, min_samples_split=3, min_samples_leaf=7, max_features=log2, max_depth=6 \n",
      "[CV]  n_estimators=50, min_samples_split=3, min_samples_leaf=7, max_features=log2, max_depth=6, total=   0.7s\n",
      "[CV] n_estimators=50, min_samples_split=3, min_samples_leaf=7, max_features=log2, max_depth=6 \n",
      "[CV]  n_estimators=50, min_samples_split=3, min_samples_leaf=7, max_features=log2, max_depth=6, total=   0.6s\n",
      "[CV] n_estimators=50, min_samples_split=3, min_samples_leaf=7, max_features=log2, max_depth=6 \n",
      "[CV]  n_estimators=50, min_samples_split=3, min_samples_leaf=7, max_features=log2, max_depth=6, total=   0.6s\n",
      "[CV] n_estimators=80, min_samples_split=7, min_samples_leaf=8, max_features=log2, max_depth=3 \n",
      "[CV]  n_estimators=80, min_samples_split=7, min_samples_leaf=8, max_features=log2, max_depth=3, total=   0.6s\n",
      "[CV] n_estimators=80, min_samples_split=7, min_samples_leaf=8, max_features=log2, max_depth=3 \n",
      "[CV]  n_estimators=80, min_samples_split=7, min_samples_leaf=8, max_features=log2, max_depth=3, total=   0.7s\n",
      "[CV] n_estimators=80, min_samples_split=7, min_samples_leaf=8, max_features=log2, max_depth=3 \n",
      "[CV]  n_estimators=80, min_samples_split=7, min_samples_leaf=8, max_features=log2, max_depth=3, total=   0.7s\n",
      "[CV] n_estimators=80, min_samples_split=7, min_samples_leaf=8, max_features=log2, max_depth=3 \n",
      "[CV]  n_estimators=80, min_samples_split=7, min_samples_leaf=8, max_features=log2, max_depth=3, total=   0.6s\n",
      "[CV] n_estimators=80, min_samples_split=7, min_samples_leaf=8, max_features=log2, max_depth=3 \n",
      "[CV]  n_estimators=80, min_samples_split=7, min_samples_leaf=8, max_features=log2, max_depth=3, total=   0.6s\n",
      "[CV] n_estimators=80, min_samples_split=7, min_samples_leaf=8, max_features=log2, max_depth=3 \n",
      "[CV]  n_estimators=80, min_samples_split=7, min_samples_leaf=8, max_features=log2, max_depth=3, total=   0.6s\n",
      "[CV] n_estimators=80, min_samples_split=7, min_samples_leaf=8, max_features=log2, max_depth=3 \n",
      "[CV]  n_estimators=80, min_samples_split=7, min_samples_leaf=8, max_features=log2, max_depth=3, total=   0.6s\n",
      "[CV] n_estimators=80, min_samples_split=7, min_samples_leaf=8, max_features=log2, max_depth=3 \n",
      "[CV]  n_estimators=80, min_samples_split=7, min_samples_leaf=8, max_features=log2, max_depth=3, total=   0.6s\n",
      "[CV] n_estimators=80, min_samples_split=7, min_samples_leaf=8, max_features=log2, max_depth=3 \n",
      "[CV]  n_estimators=80, min_samples_split=7, min_samples_leaf=8, max_features=log2, max_depth=3, total=   0.6s\n",
      "[CV] n_estimators=80, min_samples_split=7, min_samples_leaf=8, max_features=log2, max_depth=3 \n",
      "[CV]  n_estimators=80, min_samples_split=7, min_samples_leaf=8, max_features=log2, max_depth=3, total=   0.6s\n",
      "[CV] n_estimators=10, min_samples_split=2, min_samples_leaf=9, max_features=log2, max_depth=5 \n",
      "[CV]  n_estimators=10, min_samples_split=2, min_samples_leaf=9, max_features=log2, max_depth=5, total=   0.1s\n",
      "[CV] n_estimators=10, min_samples_split=2, min_samples_leaf=9, max_features=log2, max_depth=5 \n",
      "[CV]  n_estimators=10, min_samples_split=2, min_samples_leaf=9, max_features=log2, max_depth=5, total=   0.1s\n",
      "[CV] n_estimators=10, min_samples_split=2, min_samples_leaf=9, max_features=log2, max_depth=5 \n",
      "[CV]  n_estimators=10, min_samples_split=2, min_samples_leaf=9, max_features=log2, max_depth=5, total=   0.1s\n",
      "[CV] n_estimators=10, min_samples_split=2, min_samples_leaf=9, max_features=log2, max_depth=5 \n",
      "[CV]  n_estimators=10, min_samples_split=2, min_samples_leaf=9, max_features=log2, max_depth=5, total=   0.1s\n",
      "[CV] n_estimators=10, min_samples_split=2, min_samples_leaf=9, max_features=log2, max_depth=5 \n",
      "[CV]  n_estimators=10, min_samples_split=2, min_samples_leaf=9, max_features=log2, max_depth=5, total=   0.1s\n",
      "[CV] n_estimators=10, min_samples_split=2, min_samples_leaf=9, max_features=log2, max_depth=5 \n",
      "[CV]  n_estimators=10, min_samples_split=2, min_samples_leaf=9, max_features=log2, max_depth=5, total=   0.1s\n",
      "[CV] n_estimators=10, min_samples_split=2, min_samples_leaf=9, max_features=log2, max_depth=5 \n",
      "[CV]  n_estimators=10, min_samples_split=2, min_samples_leaf=9, max_features=log2, max_depth=5, total=   0.1s\n",
      "[CV] n_estimators=10, min_samples_split=2, min_samples_leaf=9, max_features=log2, max_depth=5 \n",
      "[CV]  n_estimators=10, min_samples_split=2, min_samples_leaf=9, max_features=log2, max_depth=5, total=   0.1s\n",
      "[CV] n_estimators=10, min_samples_split=2, min_samples_leaf=9, max_features=log2, max_depth=5 \n",
      "[CV]  n_estimators=10, min_samples_split=2, min_samples_leaf=9, max_features=log2, max_depth=5, total=   0.1s\n",
      "[CV] n_estimators=10, min_samples_split=2, min_samples_leaf=9, max_features=log2, max_depth=5 \n",
      "[CV]  n_estimators=10, min_samples_split=2, min_samples_leaf=9, max_features=log2, max_depth=5, total=   0.1s\n",
      "[CV] n_estimators=10, min_samples_split=4, min_samples_leaf=8, max_features=sqrt, max_depth=7 \n",
      "[CV]  n_estimators=10, min_samples_split=4, min_samples_leaf=8, max_features=sqrt, max_depth=7, total=   0.1s\n",
      "[CV] n_estimators=10, min_samples_split=4, min_samples_leaf=8, max_features=sqrt, max_depth=7 \n"
     ]
    },
    {
     "name": "stdout",
     "output_type": "stream",
     "text": [
      "[CV]  n_estimators=10, min_samples_split=4, min_samples_leaf=8, max_features=sqrt, max_depth=7, total=   0.2s\n",
      "[CV] n_estimators=10, min_samples_split=4, min_samples_leaf=8, max_features=sqrt, max_depth=7 \n",
      "[CV]  n_estimators=10, min_samples_split=4, min_samples_leaf=8, max_features=sqrt, max_depth=7, total=   0.1s\n",
      "[CV] n_estimators=10, min_samples_split=4, min_samples_leaf=8, max_features=sqrt, max_depth=7 \n",
      "[CV]  n_estimators=10, min_samples_split=4, min_samples_leaf=8, max_features=sqrt, max_depth=7, total=   0.1s\n",
      "[CV] n_estimators=10, min_samples_split=4, min_samples_leaf=8, max_features=sqrt, max_depth=7 \n",
      "[CV]  n_estimators=10, min_samples_split=4, min_samples_leaf=8, max_features=sqrt, max_depth=7, total=   0.1s\n",
      "[CV] n_estimators=10, min_samples_split=4, min_samples_leaf=8, max_features=sqrt, max_depth=7 \n",
      "[CV]  n_estimators=10, min_samples_split=4, min_samples_leaf=8, max_features=sqrt, max_depth=7, total=   0.1s\n",
      "[CV] n_estimators=10, min_samples_split=4, min_samples_leaf=8, max_features=sqrt, max_depth=7 \n",
      "[CV]  n_estimators=10, min_samples_split=4, min_samples_leaf=8, max_features=sqrt, max_depth=7, total=   0.1s\n",
      "[CV] n_estimators=10, min_samples_split=4, min_samples_leaf=8, max_features=sqrt, max_depth=7 \n",
      "[CV]  n_estimators=10, min_samples_split=4, min_samples_leaf=8, max_features=sqrt, max_depth=7, total=   0.1s\n",
      "[CV] n_estimators=10, min_samples_split=4, min_samples_leaf=8, max_features=sqrt, max_depth=7 \n",
      "[CV]  n_estimators=10, min_samples_split=4, min_samples_leaf=8, max_features=sqrt, max_depth=7, total=   0.1s\n",
      "[CV] n_estimators=10, min_samples_split=4, min_samples_leaf=8, max_features=sqrt, max_depth=7 \n",
      "[CV]  n_estimators=10, min_samples_split=4, min_samples_leaf=8, max_features=sqrt, max_depth=7, total=   0.1s\n",
      "[CV] n_estimators=70, min_samples_split=8, min_samples_leaf=8, max_features=sqrt, max_depth=4 \n",
      "[CV]  n_estimators=70, min_samples_split=8, min_samples_leaf=8, max_features=sqrt, max_depth=4, total=   0.6s\n",
      "[CV] n_estimators=70, min_samples_split=8, min_samples_leaf=8, max_features=sqrt, max_depth=4 \n",
      "[CV]  n_estimators=70, min_samples_split=8, min_samples_leaf=8, max_features=sqrt, max_depth=4, total=   0.6s\n",
      "[CV] n_estimators=70, min_samples_split=8, min_samples_leaf=8, max_features=sqrt, max_depth=4 \n",
      "[CV]  n_estimators=70, min_samples_split=8, min_samples_leaf=8, max_features=sqrt, max_depth=4, total=   0.6s\n",
      "[CV] n_estimators=70, min_samples_split=8, min_samples_leaf=8, max_features=sqrt, max_depth=4 \n",
      "[CV]  n_estimators=70, min_samples_split=8, min_samples_leaf=8, max_features=sqrt, max_depth=4, total=   0.6s\n",
      "[CV] n_estimators=70, min_samples_split=8, min_samples_leaf=8, max_features=sqrt, max_depth=4 \n",
      "[CV]  n_estimators=70, min_samples_split=8, min_samples_leaf=8, max_features=sqrt, max_depth=4, total=   0.6s\n",
      "[CV] n_estimators=70, min_samples_split=8, min_samples_leaf=8, max_features=sqrt, max_depth=4 \n",
      "[CV]  n_estimators=70, min_samples_split=8, min_samples_leaf=8, max_features=sqrt, max_depth=4, total=   0.6s\n",
      "[CV] n_estimators=70, min_samples_split=8, min_samples_leaf=8, max_features=sqrt, max_depth=4 \n",
      "[CV]  n_estimators=70, min_samples_split=8, min_samples_leaf=8, max_features=sqrt, max_depth=4, total=   0.6s\n",
      "[CV] n_estimators=70, min_samples_split=8, min_samples_leaf=8, max_features=sqrt, max_depth=4 \n",
      "[CV]  n_estimators=70, min_samples_split=8, min_samples_leaf=8, max_features=sqrt, max_depth=4, total=   0.6s\n",
      "[CV] n_estimators=70, min_samples_split=8, min_samples_leaf=8, max_features=sqrt, max_depth=4 \n",
      "[CV]  n_estimators=70, min_samples_split=8, min_samples_leaf=8, max_features=sqrt, max_depth=4, total=   0.8s\n",
      "[CV] n_estimators=70, min_samples_split=8, min_samples_leaf=8, max_features=sqrt, max_depth=4 \n",
      "[CV]  n_estimators=70, min_samples_split=8, min_samples_leaf=8, max_features=sqrt, max_depth=4, total=   0.7s\n"
     ]
    },
    {
     "name": "stderr",
     "output_type": "stream",
     "text": [
      "[Parallel(n_jobs=1)]: Done 100 out of 100 | elapsed:   54.6s finished\n"
     ]
    },
    {
     "name": "stdout",
     "output_type": "stream",
     "text": [
      "Best Params:  {'n_estimators': 80, 'min_samples_split': 9, 'min_samples_leaf': 1, 'max_features': 'auto', 'max_depth': 6}\n",
      "Best estimators are:  RandomForestClassifier(max_depth=6, min_samples_split=9, n_estimators=80,\n",
      "                       random_state=0)\n",
      "Accuracy for training dataset with tuning is : 97.09%\n",
      "Classification Report(N): \n",
      "               precision    recall  f1-score   support\n",
      "\n",
      "           0       0.97      1.00      0.99      5633\n",
      "           1       0.88      0.04      0.08       167\n",
      "\n",
      "    accuracy                           0.97      5800\n",
      "   macro avg       0.92      0.52      0.53      5800\n",
      "weighted avg       0.97      0.97      0.96      5800\n",
      "\n",
      "Confusion Matrix(N): \n",
      " [[5632    1]\n",
      " [ 160    7]]\n",
      "Accuracy(N): \n",
      " 0.9722413793103448\n",
      "       Real Values  Predicted Values\n",
      "23394            0                 0\n",
      "12518            0                 0\n",
      "22994            0                 0\n",
      "6175             0                 0\n",
      "24030            0                 0\n",
      "...            ...               ...\n",
      "1844             0                 0\n",
      "22356            0                 0\n",
      "26901            0                 0\n",
      "9668             0                 0\n",
      "10962            0                 0\n",
      "\n",
      "[5800 rows x 2 columns]\n"
     ]
    }
   ],
   "source": [
    "from sklearn.metrics import confusion_matrix, accuracy_score\n",
    "from sklearn.tree import DecisionTreeClassifier\n",
    "from sklearn.ensemble import RandomForestClassifier\n",
    "from sklearn.model_selection import RandomizedSearchCV, KFold\n",
    "from sklearn.model_selection import cross_val_score\n",
    "from sklearn.metrics import classification_report, confusion_matrix\n",
    "import sklearn.metrics as metrics\n",
    "\n",
    "rf = RandomForestClassifier(n_estimators=100, random_state=0)\n",
    "rf.fit(x_train, y_train)\n",
    "\n",
    "rf_y_pred = rf.predict(x_test)\n",
    "print('Accuracy of RandomForest is:', accuracy_score(y_test, rf_y_pred))\n",
    "\n",
    "# Random forest classifier with tuning\n",
    "params_grid = {\n",
    "    'n_estimators': range(10, 100, 10),\n",
    "    'max_features': ['auto', 'sqrt', 'log2'],\n",
    "    'max_depth': range(1, 10),\n",
    "    'min_samples_split': range(2, 10),\n",
    "    'min_samples_leaf': range(1, 10),\n",
    "}\n",
    "\n",
    "rs = RandomizedSearchCV(\n",
    "    rf,\n",
    "    params_grid,\n",
    "    n_iter=10,\n",
    "    cv=10,\n",
    "    scoring='accuracy',\n",
    "    return_train_score=False,\n",
    "    verbose=2,\n",
    "    random_state=88)\n",
    "\n",
    "search = rs.fit(x_train, y_train)\n",
    "\n",
    "# best parameters & estimator\n",
    "print(\"Best Params: \", search.best_params_)\n",
    "print(\"Best estimators are: \", search.best_estimator_)\n",
    "\n",
    "accuracy = search.best_score_ * 100\n",
    "print(\n",
    "    \"Accuracy for training dataset with tuning is : {:.2f}%\".format(accuracy))\n",
    "\n",
    "# Training the Random Forest Classification model on the Training Set with best param\n",
    "fine_tuned_model = search.best_estimator_.fit(x_train, y_train)\n",
    "\n",
    "# save model\n",
    "\n",
    "# Predicting the Test set results\n",
    "rf_y_pred = fine_tuned_model.predict(x_test)\n",
    "# predict_proba to return numpy array with two columns for a binary classification for N and P\n",
    "rf_y_scores = fine_tuned_model.predict_proba(x_test)\n",
    "\n",
    "# roc curve\n",
    "# fpr, tpr, threshold = roc_curve(y_test, rf_y_scores[:, 1])\n",
    "# roc_auc = auc(fpr, tpr)\n",
    "# plt.plot(fpr, tpr, 'b', label='AUC = %0.2f' % roc_auc)\n",
    "# plt.legend(loc='lower right')\n",
    "# plt.plot([0, 1], [0, 1], 'r--')\n",
    "# plt.xlim([0, 1])\n",
    "# plt.ylim([0, 1])\n",
    "# plt.ylabel('True Positive Rate')\n",
    "# plt.xlabel('False Positive Rate')\n",
    "# plt.title('ROC Curve of RandomForest')\n",
    "print('Classification Report(N): \\n',\n",
    "      classification_report(y_test, rf_y_pred))\n",
    "print('Confusion Matrix(N): \\n', confusion_matrix(y_test, rf_y_pred))\n",
    "print('Accuracy(N): \\n', metrics.accuracy_score(y_test, rf_y_pred))\n",
    "\n",
    "# Comparing the Real Values with Predicted Values\n",
    "newdf = pd.DataFrame({'Real Values': y_test, 'Predicted Values': rf_y_pred})\n",
    "print(newdf)\n"
   ]
  },
  {
   "cell_type": "code",
   "execution_count": 140,
   "metadata": {},
   "outputs": [],
   "source": [
    "from sklearn.tree import DecisionTreeClassifier\n",
    "from sklearn.model_selection import RandomizedSearchCV, KFold\n",
    "dt = DecisionTreeClassifier(criterion='gini')\n",
    "kf = KFold(10, shuffle=True, random_state=60)\n",
    "score = cross_val_score(dt, x_train, y_train, cv=kf)"
   ]
  },
  {
   "cell_type": "code",
   "execution_count": 142,
   "metadata": {},
   "outputs": [],
   "source": [
    "dt = DecisionTreeClassifier(criterion='gini')"
   ]
  },
  {
   "cell_type": "code",
   "execution_count": 148,
   "metadata": {},
   "outputs": [],
   "source": [
    "dt.fit(x_train, y_train)\n",
    "dt_pred = dt.predict(x_test)"
   ]
  },
  {
   "cell_type": "code",
   "execution_count": 149,
   "metadata": {},
   "outputs": [
    {
     "name": "stdout",
     "output_type": "stream",
     "text": [
      "Classification Report(N): \n",
      "               precision    recall  f1-score   support\n",
      "\n",
      "           0       0.98      0.97      0.97      5636\n",
      "           1       0.18      0.21      0.20       164\n",
      "\n",
      "    accuracy                           0.95      5800\n",
      "   macro avg       0.58      0.59      0.59      5800\n",
      "weighted avg       0.95      0.95      0.95      5800\n",
      "\n",
      "Confusion Matrix(N): \n",
      " [[5479  157]\n",
      " [ 129   35]]\n",
      "Accuracy(N): \n",
      " 0.9506896551724138\n"
     ]
    }
   ],
   "source": [
    "print('Classification Report(N): \\n',\n",
    "      classification_report(y_test, dt_pred))\n",
    "print('Confusion Matrix(N): \\n', confusion_matrix(y_test, dt_pred))\n",
    "print('Accuracy(N): \\n', metrics.accuracy_score(y_test, dt_pred))"
   ]
  },
  {
   "cell_type": "code",
   "execution_count": 93,
   "metadata": {},
   "outputs": [],
   "source": [
    "\n",
    "with open('model.pkl','wb') as f:\n",
    "    pickle.dump(fine_tuned_model,f)"
   ]
  },
  {
   "cell_type": "code",
   "execution_count": 151,
   "metadata": {},
   "outputs": [],
   "source": [
    "# load\n",
    "with open('model.pkl', 'rb') as f:\n",
    "    clf2 = pickle.load(f)"
   ]
  },
  {
   "cell_type": "code",
   "execution_count": 86,
   "metadata": {},
   "outputs": [],
   "source": [
    "xx = ['Occurrence_Year', 'Occurrence_Month', 'Occurrence_DayOfWeek',\n",
    "       'Occurrence_DayOfMonth', 'Occurrence_DayOfYear', 'Occurrence_Hour',\n",
    "       'Report_Year', 'Report_Month', 'Report_DayOfWeek', 'Report_DayOfMonth',\n",
    "       'Report_DayOfYear', 'Report_Hour', 'Division', 'Hood_ID',\n",
    "       'Premises_Type', 'Bike_Make', 'Bike_Type', 'Bike_Speed', 'Bike_Colour',\n",
    "       'Cost_of_Bike', 'City', 'Location_Type']"
   ]
  },
  {
   "cell_type": "code",
   "execution_count": 88,
   "metadata": {},
   "outputs": [],
   "source": [
    "for i in X.columns:\n",
    "    if i not in xx:\n",
    "        print(i)"
   ]
  },
  {
   "cell_type": "code",
   "execution_count": 89,
   "metadata": {},
   "outputs": [
    {
     "data": {
      "text/plain": [
       "22"
      ]
     },
     "execution_count": 89,
     "metadata": {},
     "output_type": "execute_result"
    }
   ],
   "source": [
    "len(xx)"
   ]
  },
  {
   "cell_type": "code",
   "execution_count": 90,
   "metadata": {},
   "outputs": [
    {
     "data": {
      "text/plain": [
       "22"
      ]
     },
     "execution_count": 90,
     "metadata": {},
     "output_type": "execute_result"
    }
   ],
   "source": [
    "len(X.columns)"
   ]
  },
  {
   "cell_type": "code",
   "execution_count": 97,
   "metadata": {},
   "outputs": [],
   "source": [
    "with open(\"Model/x_test.pkl\", 'wb') as f:\n",
    "    pickle.dump(x_test, f)"
   ]
  },
  {
   "cell_type": "code",
   "execution_count": 98,
   "metadata": {},
   "outputs": [],
   "source": [
    "with open(\"Model/y_test.pkl\", 'wb') as f:\n",
    "    pickle.dump(y_test, f)"
   ]
  },
  {
   "cell_type": "code",
   "execution_count": null,
   "metadata": {},
   "outputs": [],
   "source": []
  }
 ],
 "metadata": {
  "kernelspec": {
   "display_name": "Python 3 (ipykernel)",
   "language": "python",
   "name": "python3"
  },
  "language_info": {
   "codemirror_mode": {
    "name": "ipython",
    "version": 3
   },
   "file_extension": ".py",
   "mimetype": "text/x-python",
   "name": "python",
   "nbconvert_exporter": "python",
   "pygments_lexer": "ipython3",
   "version": "3.9.7"
  }
 },
 "nbformat": 4,
 "nbformat_minor": 4
}
